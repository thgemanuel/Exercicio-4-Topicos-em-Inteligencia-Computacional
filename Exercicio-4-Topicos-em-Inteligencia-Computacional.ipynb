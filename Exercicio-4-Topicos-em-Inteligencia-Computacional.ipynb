{
  "nbformat": 4,
  "nbformat_minor": 0,
  "metadata": {
    "colab": {
      "name": "ExercicioSemana5_Thiago_Emanuel.ipynb",
      "provenance": [],
      "authorship_tag": "ABX9TyOMQ3k1HLffAxMuKiuDl9Ze",
      "include_colab_link": true
    },
    "kernelspec": {
      "name": "python3",
      "display_name": "Python 3"
    },
    "language_info": {
      "name": "python"
    }
  },
  "cells": [
    {
      "cell_type": "markdown",
      "metadata": {
        "id": "view-in-github",
        "colab_type": "text"
      },
      "source": [
        "<a href=\"https://colab.research.google.com/github/thgemanuel/Exercicio-4-Topicos-em-Inteligencia-Computacional/blob/main/Exercicio-4-Topicos-em-Inteligencia-Computacional.ipynb\" target=\"_parent\"><img src=\"https://colab.research.google.com/assets/colab-badge.svg\" alt=\"Open In Colab\"/></a>"
      ]
    },
    {
      "cell_type": "markdown",
      "metadata": {
        "id": "_3oJdbW33E3G"
      },
      "source": [
        "# Exercícios da semana\n",
        "Aluno: Thiago Emanuel Silva Antunes Lopes\n",
        "Profesora: Dr. Luciana Balieiro Cosme\n",
        "\n",
        "# Proposta:\n",
        "Escolha um dois métodos supervisionados e um não supervisionado do seminário e execute-os. Avalie e compare os resultados. \n",
        "\n",
        "# Metodo apresentado no seminário:\n",
        "Método K-Means (não supervisionado)\n",
        "\n",
        "# Metodos escolhidos:\n",
        "Método Naive Bayes (supervisionado) e \n",
        "Método Árvore de decisão (supervisionado)\n"
      ]
    },
    {
      "cell_type": "code",
      "metadata": {
        "colab": {
          "base_uri": "https://localhost:8080/",
          "height": 282
        },
        "id": "cEWl_dsdt--S",
        "outputId": "97ffb5c8-a750-40ed-aca6-517ae239a17d"
      },
      "source": [
        "#iris dataset: Conjunto de dados consistem em 3 tipos diferentes de pétalas de íris (Setosa, Versicolour e Virginica) \n",
        "#e comprimento da sépala, armazenados em um numpy 150x4.\n",
        "\n",
        "#dados\n",
        "from sklearn import datasets\n",
        "#plot\n",
        "import matplotlib.pyplot as plt\n",
        "\n",
        "iris = datasets.load_iris()\n",
        "X = iris.data[:, :2]  # as duas primeiras caracteristicas\n",
        "y = iris.target #classificacao\n",
        "#0 Comprimento da sépala; 1 Largura da sépala; 2 comprimento da pétala; Largura da pétala \n",
        "#setosa, versicolor, virginica\n",
        "plt.subplots()\n",
        "plt.scatter(X[:, 0], X[:, 1], c=y, cmap=plt.cm.Set1)\n",
        "plt.xlabel('Comprimento Sepala')\n",
        "plt.ylabel('Largura Sepala')\n",
        "plt.grid(True)\n",
        "plt.show()"
      ],
      "execution_count": null,
      "outputs": [
        {
          "output_type": "display_data",
          "data": {
            "image/png": "[encoded data removed]",
            "text/plain": [
              "<Figure size 432x288 with 1 Axes>"
            ]
          },
          "metadata": {
            "tags": [],
            "needs_background": "light"
          }
        }
      ]
    },
    {
      "cell_type": "markdown",
      "metadata": {
        "id": "U-8OciXC7FBg"
      },
      "source": [
        "# Conjunto de dados para treinamento e validação"
      ]
    },
    {
      "cell_type": "code",
      "metadata": {
        "id": "X9T9SYYmuAZi"
      },
      "source": [
        "#dados de treinamento 'até 40' de cada classe+\n",
        "yt = numpy.concatenate([y[:40], y[51:90], y[101:140]])\n",
        "xt = numpy.concatenate([X[:40,:], X[51:90,:], X[101:140,:]])\n",
        "\n",
        "\n",
        "#validacão com o restante dos dados\n",
        "yv=numpy.concatenate([y[40:50], y[90:100], y[140:150]])\n",
        "xv = numpy.concatenate([X[40:50,:], X[90:100,:], X[140:150,:]])\n"
      ],
      "execution_count": null,
      "outputs": []
    },
    {
      "cell_type": "markdown",
      "metadata": {
        "id": "bBzjIKMs6VX2"
      },
      "source": [
        "# Algoritmo de classificaçao Bayesiano (Naive Bayes)"
      ]
    },
    {
      "cell_type": "code",
      "metadata": {
        "colab": {
          "base_uri": "https://localhost:8080/"
        },
        "id": "6FV_H93mx5p_",
        "outputId": "daf8b8b7-a9be-434a-ddae-1ae06b698905"
      },
      "source": [
        "#Algoritmo de classificaçao Bayesiano (Naive Bayes)\n",
        "from sklearn.model_selection import train_test_split\n",
        "from sklearn.naive_bayes import GaussianNB\n",
        "\n",
        "gnb = GaussianNB()\n",
        "gnb.fit(xt, yt)  \n",
        "ypNB=gnb.predict(xv)\n",
        "falsepositive = (yv != ypNB).sum()\n",
        "print(\"Numero de tuplas classificadas de forma incorreta pelo Naive Bayes dos %d pontos : %d\" % (X_test.shape[0], falsepositive))"
      ],
      "execution_count": null,
      "outputs": [
        {
          "output_type": "stream",
          "text": [
            "Numero de tuplas classificadas de forma incorreta pelo Naive Bayes dos 75 pontos : 4\n"
          ],
          "name": "stdout"
        }
      ]
    },
    {
      "cell_type": "markdown",
      "metadata": {
        "id": "y9Grs2S36ZrG"
      },
      "source": [
        "# Algoritmo de arvores de decisão"
      ]
    },
    {
      "cell_type": "code",
      "metadata": {
        "colab": {
          "base_uri": "https://localhost:8080/"
        },
        "id": "uh82d_8-19PF",
        "outputId": "23ec03f9-f7d4-4307-a1a9-ed5dbab844f3"
      },
      "source": [
        "#algoritmo de arvores de decisão\n",
        "from sklearn.model_selection import cross_val_score\n",
        "from sklearn.ensemble import RandomForestClassifier\n",
        "from sklearn.ensemble import ExtraTreesClassifier\n",
        "from sklearn.tree import DecisionTreeClassifier\n",
        "\n",
        "clf = DecisionTreeClassifier(max_depth=None, min_samples_split=2, random_state=0)\n",
        "clf.fit(xt, yt)  \n",
        "ypDT=clf.predict(xv)\n",
        "falsepositive = (yv != ypDT).sum()\n",
        "print(\"Numero de tuplas classificadas de forma incorreta pelo Decision Tree dos %d pontos : %d\" % (X_test.shape[0], falsepositive))\n",
        "\n",
        "#algoritmo baseado em arvores de decisão (Random Forests) somente para testes\n",
        "clfRF = RandomForestClassifier(n_estimators=10, max_depth=None, min_samples_split=2, random_state=0)\n",
        "clfRF.fit(xt, yt)  \n",
        "ypRF=clfRF.predict(xv)\n",
        "falsepositiveRF = (yv != ypRF).sum()\n",
        "print(\"Numero de tuplas classificadas de forma incorreta pelo Random Forest dos %d pontos : %d\" % (X_test.shape[0], falsepositiveRF))\n"
      ],
      "execution_count": null,
      "outputs": [
        {
          "output_type": "stream",
          "text": [
            "Numero de tuplas classificadas de forma incorreta pelo Decision Tree dos 75 pontos : 10\n",
            "Numero de tuplas classificadas de forma incorreta pelo Random Forest dos 75 pontos : 7\n"
          ],
          "name": "stdout"
        }
      ]
    },
    {
      "cell_type": "markdown",
      "metadata": {
        "id": "ulxhcCt7Fs-Q"
      },
      "source": [
        "# Algoritmo K-means"
      ]
    },
    {
      "cell_type": "code",
      "metadata": {
        "colab": {
          "base_uri": "https://localhost:8080/"
        },
        "id": "rcS9nJEBlJLY",
        "outputId": "401e5327-95e6-4cea-a7a9-2cd392f96f78"
      },
      "source": [
        "from sklearn.cluster import KMeans\n",
        "from sklearn.decomposition import PCA\n",
        "import pylab as pl\n",
        "\n",
        "# Criando o modelo\n",
        "kmeans = KMeans(n_clusters = 3)\n",
        "\n",
        "# Treinamento\n",
        "kmeans.fit(xt,yt)\n",
        "\n",
        "kmeans.labels_\n",
        "\n",
        "ypKM=kmeans.predict(xv)\n",
        "falsepositiveKM = (yv != ypKM).sum()\n",
        "print(\"Numero de tuplas classificadas de forma incorreta pelo K-means dos %d pontos : %d\" % (X_test.shape[0], falsepositiveKM))\n",
        "\n"
      ],
      "execution_count": null,
      "outputs": [
        {
          "output_type": "stream",
          "text": [
            "Numero de tuplas classificadas de forma incorreta pelo K-means dos 75 pontos : 15\n"
          ],
          "name": "stdout"
        }
      ]
    },
    {
      "cell_type": "markdown",
      "metadata": {
        "id": "e-oAa6Uk6h9l"
      },
      "source": [
        "# Matriz de confusão"
      ]
    },
    {
      "cell_type": "code",
      "metadata": {
        "colab": {
          "base_uri": "https://localhost:8080/"
        },
        "id": "QVidSDlVu3AC",
        "outputId": "3350143c-7b90-4205-b689-b83716854ca5"
      },
      "source": [
        "from sklearn.metrics import classification_report, confusion_matrix  \n",
        "print(\"Matriz de confusao do Naive Bayes\")  \n",
        "print(confusion_matrix(yv,ypNB))  \n",
        "print(classification_report(yv,ypNB))\n",
        "print(\"---------------------------------------\")  \n",
        "\n",
        "print(\"Matriz de confusao do Decision Tree\")  \n",
        "print(confusion_matrix(yv,ypDT))  \n",
        "print(classification_report(yv,ypDT))\n",
        "print(\"---------------------------------------\")  \n",
        "\n",
        "print(\"Matriz de confusao do Random Forest\")  \n",
        "print(confusion_matrix(yv,ypRF))  \n",
        "print(classification_report(yv,ypRF))\n",
        "print(\"---------------------------------------\")  \n",
        "\n",
        "print(\"Matriz de confusao do K-means\")  \n",
        "print(confusion_matrix(yv,ypKM))  \n",
        "print(classification_report(yv,ypKM))"
      ],
      "execution_count": null,
      "outputs": [
        {
          "output_type": "stream",
          "text": [
            "Matriz de confusao do Naive Bayes\n",
            "[[ 9  1  0]\n",
            " [ 0 10  0]\n",
            " [ 0  3  7]]\n",
            "              precision    recall  f1-score   support\n",
            "\n",
            "           0       1.00      0.90      0.95        10\n",
            "           1       0.71      1.00      0.83        10\n",
            "           2       1.00      0.70      0.82        10\n",
            "\n",
            "    accuracy                           0.87        30\n",
            "   macro avg       0.90      0.87      0.87        30\n",
            "weighted avg       0.90      0.87      0.87        30\n",
            "\n",
            "---------------------------------------\n",
            "Matriz de confusao do Decision Tree\n",
            "[[9 1 0]\n",
            " [0 7 3]\n",
            " [0 6 4]]\n",
            "              precision    recall  f1-score   support\n",
            "\n",
            "           0       1.00      0.90      0.95        10\n",
            "           1       0.50      0.70      0.58        10\n",
            "           2       0.57      0.40      0.47        10\n",
            "\n",
            "    accuracy                           0.67        30\n",
            "   macro avg       0.69      0.67      0.67        30\n",
            "weighted avg       0.69      0.67      0.67        30\n",
            "\n",
            "---------------------------------------\n",
            "Matriz de confusao do Random Forest\n",
            "[[9 1 0]\n",
            " [0 9 1]\n",
            " [0 5 5]]\n",
            "              precision    recall  f1-score   support\n",
            "\n",
            "           0       1.00      0.90      0.95        10\n",
            "           1       0.60      0.90      0.72        10\n",
            "           2       0.83      0.50      0.62        10\n",
            "\n",
            "    accuracy                           0.77        30\n",
            "   macro avg       0.81      0.77      0.76        30\n",
            "weighted avg       0.81      0.77      0.76        30\n",
            "\n",
            "---------------------------------------\n",
            "Matriz de confusao do K-means\n",
            "[[10  0  0]\n",
            " [ 2  0  8]\n",
            " [ 0  5  5]]\n",
            "              precision    recall  f1-score   support\n",
            "\n",
            "           0       0.83      1.00      0.91        10\n",
            "           1       0.00      0.00      0.00        10\n",
            "           2       0.38      0.50      0.43        10\n",
            "\n",
            "    accuracy                           0.50        30\n",
            "   macro avg       0.41      0.50      0.45        30\n",
            "weighted avg       0.41      0.50      0.45        30\n",
            "\n"
          ],
          "name": "stdout"
        }
      ]
    }
  ]
}