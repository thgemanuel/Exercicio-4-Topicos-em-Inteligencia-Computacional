{
  "nbformat": 4,
  "nbformat_minor": 0,
  "metadata": {
    "colab": {
      "name": "ExercicioSemana5_Thiago_Emanuel.ipynb",
      "provenance": [],
      "authorship_tag": "ABX9TyO4gogkiykTzUx32Bp9WzBB",
      "include_colab_link": true
    },
    "kernelspec": {
      "name": "python3",
      "display_name": "Python 3"
    },
    "language_info": {
      "name": "python"
    }
  },
  "cells": [
    {
      "cell_type": "markdown",
      "metadata": {
        "id": "view-in-github",
        "colab_type": "text"
      },
      "source": [
        "<a href=\"https://colab.research.google.com/github/thgemanuel/Exercicio-4-Topicos-em-Inteligencia-Computacional/blob/main/Exercicio-4-Topicos-em-Inteligencia-Computacional.ipynb\" target=\"_parent\"><img src=\"https://colab.research.google.com/assets/colab-badge.svg\" alt=\"Open In Colab\"/></a>"
      ]
    },
    {
      "cell_type": "markdown",
      "metadata": {
        "id": "_3oJdbW33E3G"
      },
      "source": [
        "# Exercícios da semana 4 - Tópicos em inteligência Computacional\n",
        "Aluno: Thiago Emanuel Silva Antunes Lopes\n",
        "Profesora: Dr. Luciana Balieiro Cosme\n",
        "\n",
        "# Proposta:\n",
        "Para a base de dados Iris, você deve:\n",
        "\n",
        "*   Explorar as demais características e mostrar resultados comparativos.\n",
        "*   Testar com outro algoritmo de classificação e discutir os resultados.\n",
        "\n",
        "\n",
        "# Metodo apresentado na aula:\n",
        "Método MLP (supervisionado)\n",
        "\n",
        "# Metodos escolhidos:\n",
        "Método Naive Bayes (supervisionado) e \n",
        "Método Árvore de decisão (supervisionado)\n"
      ]
    },
    {
      "cell_type": "code",
      "metadata": {
        "colab": {
          "base_uri": "https://localhost:8080/",
          "height": 279
        },
        "id": "cEWl_dsdt--S",
        "outputId": "9f18d716-2423-4283-d90a-f64f06fc312e"
      },
      "source": [
        "#iris dataset: Conjunto de dados consistem em 3 tipos diferentes de pétalas de íris (Setosa, Versicolour e Virginica) \n",
        "#e comprimento da sépala, arma\n",
        "import numpy\n",
        "\n",
        "#dados\n",
        "from sklearn import datasets\n",
        "#plot\n",
        "import matplotlib.pyplot as plt\n",
        "\n",
        "iris = datasets.load_iris()\n",
        "X = iris.data[:, [1,2]]  \n",
        "#X = iris.data[:, [2,3]]  \n",
        "#X = iris.data[:, :2]  # as duas primeiras caracteristicas\n",
        "y = iris.target #classificacadsadsa\n",
        "#0 Comprimento da sépala; 1 Largura da sépala; 2 comprimento da pétala; Largura da pétala \n",
        "#setosa, versicolor, virginica\n",
        "plt.subplots()\n",
        "plt.scatter(X[:, 0], X[:, 1], c=y, cmap=plt.cm.Set1)\n",
        "plt.xlabel('Comprimento Sepala')\n",
        "plt.ylabel('Largura Sepala')\n",
        "plt.grid(True)\n",
        "plt.show()"
      ],
      "execution_count": 1,
      "outputs": [
        {
          "output_type": "display_data",
          "data": {
            "image/png": "[encoded data removed]",
            "text/plain": [
              "<Figure size 432x288 with 1 Axes>"
            ]
          },
          "metadata": {
            "needs_background": "light"
          }
        }
      ]
    },
    {
      "cell_type": "markdown",
      "metadata": {
        "id": "U-8OciXC7FBg"
      },
      "source": [
        "# Conjunto de dados para treinamento e validação"
      ]
    },
    {
      "cell_type": "code",
      "metadata": {
        "id": "X9T9SYYmuAZi"
      },
      "source": [
        "#dados de treinamento 'até 40' de cada classe+\n",
        "yt = numpy.concatenate([y[:40], y[51:90], y[101:140]])\n",
        "xt = numpy.concatenate([X[:40,:], X[51:90,:], X[101:140,:]])\n",
        "\n",
        "\n",
        "#validacão com o restante dos dados\n",
        "yv=numpy.concatenate([y[40:50], y[90:100], y[140:150]])\n",
        "xv = numpy.concatenate([X[40:50,:], X[90:100,:], X[140:150,:]])\n"
      ],
      "execution_count": 2,
      "outputs": []
    },
    {
      "cell_type": "markdown",
      "metadata": {
        "id": "2li3duNcIC_-"
      },
      "source": [
        "# Algoritmo de classificação (MLP)"
      ]
    },
    {
      "cell_type": "code",
      "metadata": {
        "colab": {
          "base_uri": "https://localhost:8080/"
        },
        "id": "4vaH3at3IPd2",
        "outputId": "35789873-0526-4b63-ad3d-feda6794072c"
      },
      "source": [
        "from sklearn.neural_network import MLPClassifier\n",
        "import numpy\n",
        "mlp = MLPClassifier(alpha=0.01,max_iter=2000)\n",
        "mlp.fit(xt, yt)  \n",
        "ypmlp=mlp.predict(xv)\n",
        "falsepositive = (yv != ypmlp).sum()\n",
        "print(\"Numero de tuplas classificadas de forma incorreta pelo Naive Bayes dos %d pontos : %d\" % (xv.shape[0], falsepositive))"
      ],
      "execution_count": 3,
      "outputs": [
        {
          "output_type": "stream",
          "name": "stdout",
          "text": [
            "Numero de tuplas classificadas de forma incorreta pelo Naive Bayes dos 30 pontos : 0\n"
          ]
        }
      ]
    },
    {
      "cell_type": "markdown",
      "metadata": {
        "id": "bBzjIKMs6VX2"
      },
      "source": [
        "# Algoritmo de classificaçao Bayesiano (Naive Bayes)"
      ]
    },
    {
      "cell_type": "code",
      "metadata": {
        "colab": {
          "base_uri": "https://localhost:8080/"
        },
        "id": "6FV_H93mx5p_",
        "outputId": "a352ba6d-0158-43bb-9bd8-f5d71fac0e88"
      },
      "source": [
        "#Algoritmo de classificaçao Bayesiano (Naive Bayes)\n",
        "from sklearn.model_selection import train_test_split\n",
        "from sklearn.naive_bayes import GaussianNB\n",
        "\n",
        "gnb = GaussianNB()\n",
        "gnb.fit(xt, yt)  \n",
        "ypNB=gnb.predict(xv)\n",
        "falsepositive = (yv != ypNB).sum()\n",
        "print(\"Numero de tuplas classificadas de forma incorreta pelo Naive Bayes dos %d pontos : %d\" % (xv.shape[0], falsepositive))"
      ],
      "execution_count": 4,
      "outputs": [
        {
          "output_type": "stream",
          "name": "stdout",
          "text": [
            "Numero de tuplas classificadas de forma incorreta pelo Naive Bayes dos 30 pontos : 1\n"
          ]
        }
      ]
    },
    {
      "cell_type": "markdown",
      "metadata": {
        "id": "y9Grs2S36ZrG"
      },
      "source": [
        "# Algoritmo de arvores de decisão"
      ]
    },
    {
      "cell_type": "code",
      "metadata": {
        "colab": {
          "base_uri": "https://localhost:8080/"
        },
        "id": "uh82d_8-19PF",
        "outputId": "e98a9618-681d-4122-d28f-6e94dea3b81d"
      },
      "source": [
        "#algoritmo de arvores de decisão\n",
        "from sklearn.model_selection import cross_val_score\n",
        "from sklearn.ensemble import RandomForestClassifier\n",
        "from sklearn.ensemble import ExtraTreesClassifier\n",
        "from sklearn.tree import DecisionTreeClassifier\n",
        "\n",
        "clf = DecisionTreeClassifier(max_depth=None, min_samples_split=2, random_state=0)\n",
        "clf.fit(xt, yt)  \n",
        "ypDT=clf.predict(xv)\n",
        "falsepositive = (yv != ypDT).sum()\n",
        "print(\"Numero de tuplas classificadas de forma incorreta pelo Decision Tree dos %d pontos : %d\" % (xv.shape[0], falsepositive))\n",
        "\n",
        "#algoritmo baseado em arvores de decisão (Random Forests) somente para testes\n",
        "clfRF = RandomForestClassifier(n_estimators=10, max_depth=None, min_samples_split=2, random_state=0)\n",
        "clfRF.fit(xt, yt)  \n",
        "ypRF=clfRF.predict(xv)\n",
        "falsepositiveRF = (yv != ypRF).sum()\n",
        "print(\"Numero de tuplas classificadas de forma incorreta pelo Random Forest dos %d pontos : %d\" % (xv.shape[0], falsepositiveRF))\n"
      ],
      "execution_count": 5,
      "outputs": [
        {
          "output_type": "stream",
          "name": "stdout",
          "text": [
            "Numero de tuplas classificadas de forma incorreta pelo Decision Tree dos 30 pontos : 4\n",
            "Numero de tuplas classificadas de forma incorreta pelo Random Forest dos 30 pontos : 1\n"
          ]
        }
      ]
    },
    {
      "cell_type": "markdown",
      "metadata": {
        "id": "e-oAa6Uk6h9l"
      },
      "source": [
        "# Matriz de confusão"
      ]
    },
    {
      "cell_type": "code",
      "metadata": {
        "colab": {
          "base_uri": "https://localhost:8080/",
          "height": 1000
        },
        "id": "QVidSDlVu3AC",
        "outputId": "d8b43b7d-aa2a-4470-c327-efdfe3cbf063"
      },
      "source": [
        "from sklearn.metrics import classification_report, confusion_matrix  \n",
        "from sklearn.metrics import plot_confusion_matrix\n",
        "\n",
        "print(\"Matriz de confusao do MLP\")  \n",
        "disp = plot_confusion_matrix(mlp, xv, yv, cmap=plt.cm.Blues, normalize='true')\n",
        "disp.ax_.set_title(\"Matriz de confusão\")\n",
        "\n",
        "print(disp.confusion_matrix)\n",
        "print(classification_report(yv,ypmlp))\n",
        "plt.show()\n",
        "print(\"---------------------------------------\")  \n",
        "\n",
        "print(\"Matriz de confusao do Naive Bayes\") \n",
        "disp = plot_confusion_matrix(gnb, xv, yv, cmap=plt.cm.Blues, normalize='true')\n",
        "disp.ax_.set_title(\"Matriz de confusão\")\n",
        "\n",
        "print(disp.confusion_matrix)\n",
        "print(classification_report(yv,ypNB))\n",
        "plt.show()\n",
        "print(\"---------------------------------------\")  \n",
        "\n",
        "print(\"Matriz de confusao do Decision Tree\")  \n",
        "disp = plot_confusion_matrix(clf, xv, yv, cmap=plt.cm.Blues, normalize='true')\n",
        "disp.ax_.set_title(\"Matriz de confusão\")\n",
        "\n",
        "print(disp.confusion_matrix)\n",
        "print(classification_report(yv,ypDT))\n",
        "plt.show()\n",
        "print(\"---------------------------------------\")  \n",
        "\n",
        "print(\"Matriz de confusao do Random Forest\")  \n",
        "disp = plot_confusion_matrix(clfRF, xv, yv, cmap=plt.cm.Blues, normalize='true')\n",
        "disp.ax_.set_title(\"Matriz de confusão\")\n",
        "\n",
        "print(disp.confusion_matrix)\n",
        "print(classification_report(yv,ypRF))\n",
        "plt.show()"
      ],
      "execution_count": 6,
      "outputs": [
        {
          "output_type": "stream",
          "name": "stdout",
          "text": [
            "Matriz de confusao do MLP\n",
            "[[1. 0. 0.]\n",
            " [0. 1. 0.]\n",
            " [0. 0. 1.]]\n",
            "              precision    recall  f1-score   support\n",
            "\n",
            "           0       1.00      1.00      1.00        10\n",
            "           1       1.00      1.00      1.00        10\n",
            "           2       1.00      1.00      1.00        10\n",
            "\n",
            "    accuracy                           1.00        30\n",
            "   macro avg       1.00      1.00      1.00        30\n",
            "weighted avg       1.00      1.00      1.00        30\n",
            "\n"
          ]
        },
        {
          "output_type": "display_data",
          "data": {
            "image/png": "[encoded data removed]",
            "text/plain": [
              "<Figure size 432x288 with 2 Axes>"
            ]
          },
          "metadata": {
            "needs_background": "light"
          }
        },
        {
          "output_type": "stream",
          "name": "stdout",
          "text": [
            "---------------------------------------\n",
            "Matriz de confusao do Naive Bayes\n",
            "[[1.  0.  0. ]\n",
            " [0.  1.  0. ]\n",
            " [0.  0.1 0.9]]\n",
            "              precision    recall  f1-score   support\n",
            "\n",
            "           0       1.00      1.00      1.00        10\n",
            "           1       0.91      1.00      0.95        10\n",
            "           2       1.00      0.90      0.95        10\n",
            "\n",
            "    accuracy                           0.97        30\n",
            "   macro avg       0.97      0.97      0.97        30\n",
            "weighted avg       0.97      0.97      0.97        30\n",
            "\n"
          ]
        },
        {
          "output_type": "display_data",
          "data": {
            "image/png": "[encoded data removed]",
            "text/plain": [
              "<Figure size 432x288 with 2 Axes>"
            ]
          },
          "metadata": {
            "needs_background": "light"
          }
        },
        {
          "output_type": "stream",
          "name": "stdout",
          "text": [
            "---------------------------------------\n",
            "Matriz de confusao do Decision Tree\n",
            "[[1.  0.  0. ]\n",
            " [0.  1.  0. ]\n",
            " [0.  0.4 0.6]]\n",
            "              precision    recall  f1-score   support\n",
            "\n",
            "           0       1.00      1.00      1.00        10\n",
            "           1       0.71      1.00      0.83        10\n",
            "           2       1.00      0.60      0.75        10\n",
            "\n",
            "    accuracy                           0.87        30\n",
            "   macro avg       0.90      0.87      0.86        30\n",
            "weighted avg       0.90      0.87      0.86        30\n",
            "\n"
          ]
        },
        {
          "output_type": "display_data",
          "data": {
            "image/png": "[encoded data removed]",
            "text/plain": [
              "<Figure size 432x288 with 2 Axes>"
            ]
          },
          "metadata": {
            "needs_background": "light"
          }
        },
        {
          "output_type": "stream",
          "name": "stdout",
          "text": [
            "---------------------------------------\n",
            "Matriz de confusao do Random Forest\n",
            "[[1.  0.  0. ]\n",
            " [0.  1.  0. ]\n",
            " [0.  0.1 0.9]]\n",
            "              precision    recall  f1-score   support\n",
            "\n",
            "           0       1.00      1.00      1.00        10\n",
            "           1       0.91      1.00      0.95        10\n",
            "           2       1.00      0.90      0.95        10\n",
            "\n",
            "    accuracy                           0.97        30\n",
            "   macro avg       0.97      0.97      0.97        30\n",
            "weighted avg       0.97      0.97      0.97        30\n",
            "\n"
          ]
        },
        {
          "output_type": "display_data",
          "data": {
            "image/png": "[encoded data removed]",
            "text/plain": [
              "<Figure size 432x288 with 2 Axes>"
            ]
          },
          "metadata": {
            "needs_background": "light"
          }
        }
      ]
    }
  ]
}